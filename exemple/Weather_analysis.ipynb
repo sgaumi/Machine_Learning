{
 "cells": [
  {
   "cell_type": "markdown",
   "metadata": {},
   "source": [
    "## Weather Analysis (Machine Learning K-Mean)\n"
   ]
  },
  {
   "cell_type": "code",
   "execution_count": 1,
   "metadata": {},
   "outputs": [],
   "source": [
    "#importing libs\n",
    "\n",
    "%matplotlib inline\n",
    "from copy import deepcopy #allows copy arrays instead of using pointeurs\n",
    "import numpy as np #numpy (array maths etc)\n",
    "import pandas as pd #importing data from a file\n",
    "from matplotlib import pyplot as plt #display\n",
    "plt.rcParams['figure.figsize']=(16,9) #limit the size\n",
    "plt.style.use('ggplot') #plot style\n",
    "\n",
    "#we don't use sklearn in this exemple to show how to do without\n",
    "\n",
    "\n"
   ]
  },
  {
   "cell_type": "code",
   "execution_count": 2,
   "metadata": {},
   "outputs": [
    {
     "name": "stdout",
     "output_type": "stream",
     "text": [
      "(39, 2)\n"
     ]
    },
    {
     "data": {
      "text/html": [
       "<div>\n",
       "<style scoped>\n",
       "    .dataframe tbody tr th:only-of-type {\n",
       "        vertical-align: middle;\n",
       "    }\n",
       "\n",
       "    .dataframe tbody tr th {\n",
       "        vertical-align: top;\n",
       "    }\n",
       "\n",
       "    .dataframe thead th {\n",
       "        text-align: right;\n",
       "    }\n",
       "</style>\n",
       "<table border=\"1\" class=\"dataframe\">\n",
       "  <thead>\n",
       "    <tr style=\"text-align: right;\">\n",
       "      <th></th>\n",
       "      <th>Temperature Difference</th>\n",
       "      <th>Pressure difference</th>\n",
       "    </tr>\n",
       "  </thead>\n",
       "  <tbody>\n",
       "    <tr>\n",
       "      <td>0</td>\n",
       "      <td>2.07</td>\n",
       "      <td>-3.240</td>\n",
       "    </tr>\n",
       "    <tr>\n",
       "      <td>1</td>\n",
       "      <td>17.93</td>\n",
       "      <td>15.788</td>\n",
       "    </tr>\n",
       "    <tr>\n",
       "      <td>2</td>\n",
       "      <td>1.08</td>\n",
       "      <td>7.319</td>\n",
       "    </tr>\n",
       "    <tr>\n",
       "      <td>3</td>\n",
       "      <td>11.12</td>\n",
       "      <td>14.410</td>\n",
       "    </tr>\n",
       "    <tr>\n",
       "      <td>4</td>\n",
       "      <td>23.71</td>\n",
       "      <td>2.560</td>\n",
       "    </tr>\n",
       "  </tbody>\n",
       "</table>\n",
       "</div>"
      ],
      "text/plain": [
       "   Temperature Difference  Pressure difference\n",
       "0                    2.07               -3.240\n",
       "1                   17.93               15.788\n",
       "2                    1.08                7.319\n",
       "3                   11.12               14.410\n",
       "4                   23.71                2.560"
      ]
     },
     "execution_count": 2,
     "metadata": {},
     "output_type": "execute_result"
    }
   ],
   "source": [
    "#importing the dataset\n",
    "data = pd.read_csv('/home/asministrateur/Bureau/NCTU/Machine_Learning/data.csv')\n",
    "print(data.shape)\n",
    "data.head()\n"
   ]
  },
  {
   "cell_type": "code",
   "execution_count": 3,
   "metadata": {},
   "outputs": [
    {
     "name": "stdout",
     "output_type": "stream",
     "text": [
      "[ 2.07  17.93   1.08  11.12  23.71  24.169 21.665  4.69  19.2    4.23\n",
      "  9.127 -0.4    7.31  -3.438 17.63   4.41  11.94   0.72   8.18  -5.77\n",
      " 18.769  0.1    0.11   0.12   0.13   0.11  10.    10.1   10.1   10.12\n",
      " 10.13  10.14  10.12  20.    20.1   20.11  20.12  20.13  20.15 ]\n",
      "[ -3.24   15.788   7.319  14.41    2.56   32.02    4.89   12.34   -1.12\n",
      "  -4.44   23.6    15.29    3.3   -12.02   -3.21   22.8     8.12    1.8\n",
      "  28.13    1.02   24.17    0.1     0.09    0.11    0.1     0.11   20.\n",
      "  20.     20.1    20.11   20.13   20.08   20.09    0.      0.1     0.08\n",
      "   0.12    0.07    0.15 ]\n",
      "[(2.07, -3.24), (17.93, 15.788), (1.08, 7.319), (11.12, 14.41), (23.71, 2.56), (24.169, 32.02), (21.665, 4.89), (4.69, 12.34), (19.2, -1.12), (4.23, -4.44), (9.127, 23.6), (-0.4, 15.29), (7.31, 3.3), (-3.438, -12.02), (17.63, -3.21), (4.41, 22.8), (11.94, 8.12), (0.72, 1.8), (8.18, 28.13), (-5.77, 1.02), (18.769000000000002, 24.17), (0.1, 0.1), (0.11, 0.09), (0.12, 0.11), (0.13, 0.1), (0.11, 0.11), (10.0, 20.0), (10.1, 20.0), (10.1, 20.1), (10.12, 20.11), (10.13, 20.13), (10.14, 20.08), (10.12, 20.09), (20.0, 0.0), (20.1, 0.1), (20.11, 0.08), (20.12, 0.12), (20.13, 0.07), (20.15, 0.15)]\n",
      "[[  2.07   -3.24 ]\n",
      " [ 17.93   15.788]\n",
      " [  1.08    7.319]\n",
      " [ 11.12   14.41 ]\n",
      " [ 23.71    2.56 ]\n",
      " [ 24.169  32.02 ]\n",
      " [ 21.665   4.89 ]\n",
      " [  4.69   12.34 ]\n",
      " [ 19.2    -1.12 ]\n",
      " [  4.23   -4.44 ]\n",
      " [  9.127  23.6  ]\n",
      " [ -0.4    15.29 ]\n",
      " [  7.31    3.3  ]\n",
      " [ -3.438 -12.02 ]\n",
      " [ 17.63   -3.21 ]\n",
      " [  4.41   22.8  ]\n",
      " [ 11.94    8.12 ]\n",
      " [  0.72    1.8  ]\n",
      " [  8.18   28.13 ]\n",
      " [ -5.77    1.02 ]\n",
      " [ 18.769  24.17 ]\n",
      " [  0.1     0.1  ]\n",
      " [  0.11    0.09 ]\n",
      " [  0.12    0.11 ]\n",
      " [  0.13    0.1  ]\n",
      " [  0.11    0.11 ]\n",
      " [ 10.     20.   ]\n",
      " [ 10.1    20.   ]\n",
      " [ 10.1    20.1  ]\n",
      " [ 10.12   20.11 ]\n",
      " [ 10.13   20.13 ]\n",
      " [ 10.14   20.08 ]\n",
      " [ 10.12   20.09 ]\n",
      " [ 20.      0.   ]\n",
      " [ 20.1     0.1  ]\n",
      " [ 20.11    0.08 ]\n",
      " [ 20.12    0.12 ]\n",
      " [ 20.13    0.07 ]\n",
      " [ 20.15    0.15 ]]\n"
     ]
    },
    {
     "data": {
      "text/plain": [
       "<matplotlib.collections.PathCollection at 0x7fd0dc61ebd0>"
      ]
     },
     "execution_count": 3,
     "metadata": {},
     "output_type": "execute_result"
    },
    {
     "data": {
      "image/png": "[encoded data removed]",
      "text/plain": [
       "<Figure size 432x288 with 1 Axes>"
      ]
     },
     "metadata": {
      "needs_background": "light"
     },
     "output_type": "display_data"
    }
   ],
   "source": [
    "#Getting the values and plotting it\n",
    "\n",
    "f1 = data['Temperature Difference'].values\n",
    "print(f1)\n",
    "f2 = data['Pressure difference'].values\n",
    "print(f2)\n",
    "print(list(zip(f1,f2)))\n",
    "X = np.array(list(zip(f1,f2)))\n",
    "print(X)\n",
    "plt.scatter(f1,f2,c='black',s=7)"
   ]
  },
  {
   "cell_type": "code",
   "execution_count": 4,
   "metadata": {},
   "outputs": [],
   "source": [
    "#Euclidian Distance Calculator\n",
    "def dist(a,b,ax=1):\n",
    "    return np.linalg.norm(a-b,axis=ax)"
   ]
  },
  {
   "cell_type": "code",
   "execution_count": 5,
   "metadata": {},
   "outputs": [
    {
     "name": "stdout",
     "output_type": "stream",
     "text": [
      "[[10.  7.]\n",
      " [ 0.  6.]\n",
      " [ 5. 10.]]\n"
     ]
    }
   ],
   "source": [
    "#Number of clusters\n",
    "k=3\n",
    "\n",
    "#X coordinates of random centroids\n",
    "C_x=np.random.randint(0,np.max(X)-20,size=k)\n",
    "\n",
    "#Y coordinates of random centroids\n",
    "C_y = np.random.randint(0,np.max(X)-20,size=k)\n",
    "\n",
    "C=np.array(list(zip(C_x,C_y)),dtype=np.float32)\n",
    "print(C)"
   ]
  },
  {
   "cell_type": "code",
   "execution_count": 6,
   "metadata": {},
   "outputs": [
    {
     "data": {
      "text/plain": [
       "<matplotlib.collections.PathCollection at 0x7fd0dc54e910>"
      ]
     },
     "execution_count": 6,
     "metadata": {},
     "output_type": "execute_result"
    },
    {
     "data": {
      "image/png": "[encoded data removed]",
      "text/plain": [
       "<Figure size 432x288 with 1 Axes>"
      ]
     },
     "metadata": {
      "needs_background": "light"
     },
     "output_type": "display_data"
    }
   ],
   "source": [
    "# Plotting along with the Centroids\n",
    "plt.scatter(f1,f2,c='#050505',s=7)\n",
    "plt.scatter(C_x,C_y,marker='*',s=200,c='g')"
   ]
  },
  {
   "cell_type": "code",
   "execution_count": 7,
   "metadata": {},
   "outputs": [
    {
     "data": {
      "image/png": "[encoded data removed]",
      "text/plain": [
       "<Figure size 432x288 with 1 Axes>"
      ]
     },
     "metadata": {
      "needs_background": "light"
     },
     "output_type": "display_data"
    },
    {
     "data": {
      "image/png": "[encoded data removed]",
      "text/plain": [
       "<Figure size 432x288 with 1 Axes>"
      ]
     },
     "metadata": {
      "needs_background": "light"
     },
     "output_type": "display_data"
    },
    {
     "data": {
      "image/png": "[encoded data removed]",
      "text/plain": [
       "<Figure size 432x288 with 1 Axes>"
      ]
     },
     "metadata": {
      "needs_background": "light"
     },
     "output_type": "display_data"
    },
    {
     "data": {
      "image/png": "[encoded data removed]",
      "text/plain": [
       "<Figure size 432x288 with 1 Axes>"
      ]
     },
     "metadata": {
      "needs_background": "light"
     },
     "output_type": "display_data"
    }
   ],
   "source": [
    "#To store the value of centroids when it updates\n",
    "C_old = np.zeros(C.shape)\n",
    "\n",
    "# Cluster Labels(0, 1, 2)\n",
    "clusters = np.zeros(len(X))\n",
    "\n",
    "#Error func. - Distance between new centroids and old centroids\n",
    "error = dist(C, C_old, None)\n",
    "\n",
    "# Loop will run until the error become zero\n",
    "while error!=0:\n",
    "    \n",
    "    # Assigning each value to its closest cluster\n",
    "    for i in range (len(X)):\n",
    "        distances = dist(X[i],C)\n",
    "        cluster = np.argmin(distances)\n",
    "        clusters[i] = cluster\n",
    "        \n",
    "    # Storing the old centroid values\n",
    "    C_old = deepcopy(C)\n",
    "    \n",
    "    #Finding the new centroids by taking the average value\n",
    "    for i in range(k):\n",
    "        points = [X[j] for j in range(len(X)) if clusters[j] == i] #on met X[j] dans points si son cluster est i\n",
    "        C[i] = np.mean(points, axis=0)\n",
    "        error=dist(C, C_old, None)\n",
    "        \n",
    "    colors = ['r','g','b','y','c','m']\n",
    "    fig, ax = plt.subplots()\n",
    "    \n",
    "    for i in range(k):\n",
    "        points = np.array([X[j] for j in range(len(X)) if clusters[j]==i])\n",
    "        ax.scatter(points[:,0],points[:,1],s=7,c=colors[i])\n",
    "        ax.scatter(C[:,0],C[:,1],marker='*',s=200,c='#050505')"
   ]
  },
  {
   "cell_type": "code",
   "execution_count": null,
   "metadata": {},
   "outputs": [],
   "source": []
  }
 ],
 "metadata": {
  "kernelspec": {
   "display_name": "Python 3",
   "language": "python",
   "name": "python3"
  },
  "language_info": {
   "codemirror_mode": {
    "name": "ipython",
    "version": 3
   },
   "file_extension": ".py",
   "mimetype": "text/x-python",
   "name": "python",
   "nbconvert_exporter": "python",
   "pygments_lexer": "ipython3",
   "version": "3.7.4"
  }
 },
 "nbformat": 4,
 "nbformat_minor": 2
}
