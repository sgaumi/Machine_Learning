{
 "cells": [
  {
   "cell_type": "markdown",
   "metadata": {},
   "source": [
    "## Machine Learning HW1 Problem 2\n",
    "\n",
    "0845209 . Siméon Gaumart\n",
    "\n"
   ]
  },
  {
   "cell_type": "markdown",
   "metadata": {},
   "source": [
    "# question a"
   ]
  },
  {
   "cell_type": "code",
   "execution_count": 16,
   "metadata": {},
   "outputs": [],
   "source": [
    "#importing libs\n",
    "%matplotlib inline\n",
    "import numpy as np \n",
    "import pandas as pd \n",
    "from matplotlib import pyplot as plt\n",
    "from mpl_toolkits.mplot3d import Axes3D\n",
    "from matplotlib import cm\n",
    "from copy import deepcopy"
   ]
  },
  {
   "cell_type": "code",
   "execution_count": 17,
   "metadata": {},
   "outputs": [],
   "source": [
    "#importing datas\n",
    "try:\n",
    "    continueProg = True\n",
    "    data = pd.read_csv('./MEAP93.csv')\n",
    "    math10=data[\"math10\"].values\n",
    "    lnchprg=data[\"lnchprg\"].values\n",
    "except:\n",
    "    continueProg = False\n",
    "    print(\"error : read data fails\")\n",
    "    print(\"please put datas on the same folder\")\n"
   ]
  },
  {
   "cell_type": "code",
   "execution_count": 18,
   "metadata": {},
   "outputs": [
    {
     "name": "stdout",
     "output_type": "stream",
     "text": [
      "math10 = 32.14271164450065 + -0.31886428597057154 * lnchprg\n"
     ]
    },
    {
     "data": {
      "image/png": "[encoded data removed]",
      "text/plain": [
       "<Figure size 1152x648 with 1 Axes>"
      ]
     },
     "metadata": {
      "needs_background": "light"
     },
     "output_type": "display_data"
    }
   ],
   "source": [
    "#linear regression\n",
    "\n",
    "if continueProg :\n",
    "    \n",
    "    def lossFunction(x,y,b0,b1):\n",
    "        nx=len(x)\n",
    "        ny=len(y)\n",
    "        S=0\n",
    "        if nx == ny :\n",
    "            for i in range (0,nx):\n",
    "                S=S+(y[i]-(b0+x[i]*b1))**2\n",
    "            return S\n",
    "        else :\n",
    "            return False\n",
    "        \n",
    "    def dLossFunctionB0(x,y):\n",
    "        nx=len(x)\n",
    "        ny=len(y)\n",
    "        coeffB0=0\n",
    "        coeffB1=0\n",
    "        coeffN=0\n",
    "        if nx == ny :\n",
    "            for i in range (0,nx):\n",
    "                coeffB0=coeffB0+2\n",
    "                coeffB1=coeffB1+2*x[i]\n",
    "                coeffN=coeffN+(-2)*y[i]\n",
    "            return coeffB0, coeffB1, coeffN\n",
    "        else :\n",
    "            return False\n",
    "        \n",
    "    def dLossFunctionB1(x,y):\n",
    "        nx=len(x)\n",
    "        ny=len(y)\n",
    "        coeffB0=0\n",
    "        coeffB1=0\n",
    "        coeffN=0\n",
    "        if nx == ny :\n",
    "            for i in range (0,nx):\n",
    "                coeffB0=coeffB0+2*x[i]\n",
    "                coeffB1=coeffB1+2*x[i]*x[i]\n",
    "                coeffN=coeffN+(-2)*y[i]*x[i]\n",
    "            return coeffB0, coeffB1, coeffN\n",
    "        else :\n",
    "            return False\n",
    "    \n",
    "    def LinearReg(lnchprgf,math10f):\n",
    "        dB0coeffB0, dB0coeffB1, dB0coeffN = dLossFunctionB0(lnchprgf,math10f)\n",
    "        dB1coeffB0, dB1coeffB1, dB1coeffN = dLossFunctionB1(lnchprgf,math10f)\n",
    "\n",
    "        A = np.array([[dB0coeffB0, dB0coeffB1],[dB1coeffB0, dB1coeffB1]])\n",
    "        C = np.array([-dB0coeffN, -dB1coeffN])\n",
    "        B = np.linalg.solve(A,C)\n",
    "\n",
    "        B0f = B[0]\n",
    "        B1f = B[1]\n",
    "        \n",
    "        print(\"math10 = \"+str(B0f)+\" + \"+str(B1f)+\" * lnchprg\")\n",
    "              \n",
    "        return B0f, B1f\n",
    "    \n",
    "    B0, B1 = LinearReg(lnchprg,math10)\n",
    "    \n",
    "    \n",
    "    \n",
    "    def Afficher(lnchprga,math10a,B0a,B1a):\n",
    "        fig=plt.figure(figsize=(16,9))\n",
    "        ax = fig.add_subplot(111)\n",
    "        ax.scatter(lnchprga,math10a,c='r',s=7)\n",
    "        Lx=[np.min(lnchprga),np.max(lnchprga)]\n",
    "        Ly=[]\n",
    "        for i in range (0,len(Lx)):\n",
    "            Ly.append(B1a*Lx[i]+B0a)\n",
    "        ax.plot(Lx,Ly,c='g')\n",
    "        ax.set_ylabel('math10')\n",
    "        ax.set_xlabel('lnchprg')\n",
    "        plt.grid()\n",
    "        plt.show()\n",
    "    \n",
    "    Afficher(lnchprg,math10,B0,B1)\n",
    "    "
   ]
  },
  {
   "cell_type": "code",
   "execution_count": 20,
   "metadata": {},
   "outputs": [
    {
     "name": "stdout",
     "output_type": "stream",
     "text": [
      "math10 = 32.14271164450049 + -0.3188642859705656 * lnchprg\n"
     ]
    }
   ],
   "source": [
    "#we find the same result with polyfit\n",
    "Bpf = np.polyfit(lnchprg,math10,1)\n",
    "print(\"math10 = \"+str(Bpf[1])+\" + \"+str(Bpf[0])+\" * lnchprg\")"
   ]
  },
  {
   "cell_type": "code",
   "execution_count": 21,
   "metadata": {},
   "outputs": [
    {
     "name": "stdout",
     "output_type": "stream",
     "text": [
      "R² =  0.1710340964985374\n"
     ]
    }
   ],
   "source": [
    "#R squared\n",
    "math10exp=B0+lnchprg*B1\n",
    "rsq = 1 - (sum(pow((math10-math10exp),2))/(len(math10)*np.var(math10)))\n",
    "print(\"R² = \",rsq)"
   ]
  },
  {
   "cell_type": "code",
   "execution_count": 22,
   "metadata": {},
   "outputs": [
    {
     "name": "stdout",
     "output_type": "stream",
     "text": [
      "LinregressResult(slope=-0.31886428597056565, intercept=32.142711644500494, rvalue=-0.41356268750763575, pvalue=2.7466090396188826e-18, stderr=0.0348393342585019)\n",
      "R² =  0.17103409649853837\n"
     ]
    }
   ],
   "source": [
    "from scipy.stats import *\n",
    "print(linregress(lnchprg,math10))\n",
    "print(\"R² = \",(linregress(lnchprg,math10)[2])**2)"
   ]
  },
  {
   "cell_type": "markdown",
   "metadata": {},
   "source": [
    "# question d"
   ]
  },
  {
   "cell_type": "code",
   "execution_count": 23,
   "metadata": {},
   "outputs": [],
   "source": [
    "expend = data[\"expend\"].values\n",
    "logexpend = np.log10(expend)"
   ]
  },
  {
   "cell_type": "code",
   "execution_count": 24,
   "metadata": {},
   "outputs": [
    {
     "name": "stdout",
     "output_type": "stream",
     "text": [
      "math10 = -20.360816474189132 + 14.344410366129082 * log(expend) + -0.30458530220642444 * lnchprg\n"
     ]
    }
   ],
   "source": [
    "#linear regression\n",
    "\n",
    "X = np.ones((len(lnchprg),3))\n",
    "for i in range (0,len(lnchprg)):\n",
    "    X[i,1]=logexpend[i]\n",
    "    X[i,2]=lnchprg[i]\n",
    "Y = math10.reshape((len(math10),1))\n",
    "\n",
    "Xt=np.transpose(X)\n",
    "Bd = ((np.linalg.inv(Xt.dot(X))).dot(Xt)).dot(Y) #Bd=(Xt*X)^⁻1*Xt*Y\n",
    "\n",
    "print(\"math10 = \"+str(Bd[0,0])+\" + \"+str(Bd[1,0])+\" * log(expend) + \"+str(Bd[2,0])+\" * lnchprg\")\n",
    "\n"
   ]
  },
  {
   "cell_type": "code",
   "execution_count": 28,
   "metadata": {},
   "outputs": [],
   "source": [
    "#3D plot \n",
    "\n",
    "%matplotlib qt \n",
    "#^-- for a dynamic plot\n",
    "\n",
    "fig=plt.figure()\n",
    "ax = fig.add_subplot(111,projection='3d')\n",
    "ax.scatter(logexpend,lnchprg,math10)\n",
    "\n",
    "Lle=np.arange(min(logexpend),max(logexpend),0.01)\n",
    "Llp=np.arange(min(lnchprg),max(lnchprg),1)\n",
    "Lle,Llp=np.meshgrid(Lle,Llp)\n",
    "\n",
    "Lm10 = Bd[0,0]+Bd[1,0]*Lle+Bd[2,0]*Llp\n",
    "ax.plot_surface(Lle,Llp,Lm10,cmap=cm.coolwarm)\n",
    "\n",
    "ax.set_zlabel('math10')\n",
    "ax.set_xlabel('log(expend)')\n",
    "ax.set_ylabel('lnchprg')\n",
    "\n",
    "plt.show()"
   ]
  },
  {
   "cell_type": "code",
   "execution_count": 29,
   "metadata": {},
   "outputs": [
    {
     "name": "stdout",
     "output_type": "stream",
     "text": [
      "R² =  0.17992710085133723\n"
     ]
    }
   ],
   "source": [
    "#R squared\n",
    "math10exp2=Bd[0,0]+logexpend*Bd[1,0]+lnchprg*Bd[2,0]\n",
    "rsq2 = 1 - (sum(pow((math10-math10exp2),2))/(len(math10)*np.var(math10)))\n",
    "print(\"R² = \",rsq2)"
   ]
  }
 ],
 "metadata": {
  "kernelspec": {
   "display_name": "Python 3",
   "language": "python",
   "name": "python3"
  },
  "language_info": {
   "codemirror_mode": {
    "name": "ipython",
    "version": 3
   },
   "file_extension": ".py",
   "mimetype": "text/x-python",
   "name": "python",
   "nbconvert_exporter": "python",
   "pygments_lexer": "ipython3",
   "version": "3.7.4"
  }
 },
 "nbformat": 4,
 "nbformat_minor": 2
}
