{
 "cells": [
  {
   "cell_type": "markdown",
   "metadata": {},
   "source": [
    "## Machine Learning HW3\n",
    "Gaumart Siméon . 0845209"
   ]
  },
  {
   "cell_type": "markdown",
   "metadata": {},
   "source": [
    "# Problem 2"
   ]
  },
  {
   "cell_type": "code",
   "execution_count": 6,
   "metadata": {},
   "outputs": [],
   "source": [
    "from sklearn.datasets import make_moons\n",
    "from sklearn.preprocessing import StandardScaler"
   ]
  },
  {
   "cell_type": "code",
   "execution_count": 4,
   "metadata": {},
   "outputs": [
    {
     "name": "stdout",
     "output_type": "stream",
     "text": [
      "TRAIN\n",
      "[[ 0.14251326  0.97729642]\n",
      " [ 1.69162395 -0.14551701]\n",
      " [-0.97839346  0.21814103]\n",
      " [ 2.11415566  0.51825125]\n",
      " [ 0.77368627  0.75715793]\n",
      " [ 0.51700508 -0.23788052]\n",
      " [ 1.04696016 -0.62811436]\n",
      " [-1.09005525  0.80514957]\n",
      " [ 1.12966543 -0.11132475]\n",
      " [ 0.34046319  0.28184515]]\n",
      "[0 1 0 1 0 1 1 0 0 1]\n",
      "TEST\n",
      "[[ 0.14251326  0.97729642]\n",
      " [ 1.69162395 -0.14551701]\n",
      " [-0.97839346  0.21814103]\n",
      " [ 2.11415566  0.51825125]\n",
      " [ 0.77368627  0.75715793]\n",
      " [ 0.51700508 -0.23788052]\n",
      " [ 1.04696016 -0.62811436]\n",
      " [-1.09005525  0.80514957]\n",
      " [ 1.12966543 -0.11132475]\n",
      " [ 0.34046319  0.28184515]]\n",
      "[0 1 0 1 0 1 1 0 0 1]\n"
     ]
    }
   ],
   "source": [
    "X_train, y_train = make_moons(n_samples=10, noise=0.15, random_state=0)\n",
    "\n",
    "print(\"TRAIN\")\n",
    "print(X_train)\n",
    "print(y_train)\n",
    "\n",
    "X_test, y_test = make_moons(n_samples=10, noise=0.15, random_state=0)\n",
    "\n",
    "print(\"TEST\")\n",
    "print(X_test)\n",
    "print(y_test)"
   ]
  },
  {
   "cell_type": "code",
   "execution_count": 7,
   "metadata": {},
   "outputs": [
    {
     "name": "stdout",
     "output_type": "stream",
     "text": [
      "TRAIN\n",
      "[[-0.4346723   1.4782659 ]\n",
      " [ 1.14505047 -0.78369371]\n",
      " [-1.57772934 -0.05108777]\n",
      " [ 1.57593185  0.55349817]\n",
      " [ 0.20897335  1.03478673]\n",
      " [-0.05278013 -0.96976429]\n",
      " [ 0.48764742 -1.75590842]\n",
      " [-1.69159769  1.13146811]\n",
      " [ 0.57198704 -0.71481184]\n",
      " [-0.23281067  0.07724713]]\n",
      "[0 1 0 1 0 1 1 0 0 1]\n",
      "TEST\n",
      "[[-0.4346723   1.4782659 ]\n",
      " [ 1.14505047 -0.78369371]\n",
      " [-1.57772934 -0.05108777]\n",
      " [ 1.57593185  0.55349817]\n",
      " [ 0.20897335  1.03478673]\n",
      " [-0.05278013 -0.96976429]\n",
      " [ 0.48764742 -1.75590842]\n",
      " [-1.69159769  1.13146811]\n",
      " [ 0.57198704 -0.71481184]\n",
      " [-0.23281067  0.07724713]]\n",
      "[0 1 0 1 0 1 1 0 0 1]\n"
     ]
    }
   ],
   "source": [
    "sc = StandardScaler()\n",
    "sc.fit(X_train)\n",
    "X_train_std = sc.transform(X_train)\n",
    "X_test_std = sc.transform(X_test)\n",
    "\n",
    "print(\"TRAIN\")\n",
    "print(X_train_std)\n",
    "print(y_train)\n",
    "print(\"TEST\")\n",
    "print(X_test_std)\n",
    "print(y_test)"
   ]
  },
  {
   "cell_type": "code",
   "execution_count": 14,
   "metadata": {},
   "outputs": [
    {
     "name": "stdout",
     "output_type": "stream",
     "text": [
      " \n",
      "false\n",
      " \n"
     ]
    }
   ],
   "source": [
    "x=input()\n",
    "try:\n",
    "    x=int(x)\n",
    "except:\n",
    "    print(\"false\")\n",
    "print(x)"
   ]
  },
  {
   "cell_type": "code",
   "execution_count": null,
   "metadata": {},
   "outputs": [],
   "source": []
  },
  {
   "cell_type": "code",
   "execution_count": null,
   "metadata": {},
   "outputs": [],
   "source": []
  }
 ],
 "metadata": {
  "kernelspec": {
   "display_name": "Python 3",
   "language": "python",
   "name": "python3"
  },
  "language_info": {
   "codemirror_mode": {
    "name": "ipython",
    "version": 3
   },
   "file_extension": ".py",
   "mimetype": "text/x-python",
   "name": "python",
   "nbconvert_exporter": "python",
   "pygments_lexer": "ipython3",
   "version": "3.7.4"
  }
 },
 "nbformat": 4,
 "nbformat_minor": 2
}
