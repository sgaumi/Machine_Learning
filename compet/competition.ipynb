{
 "cells": [
  {
   "cell_type": "code",
   "execution_count": 1,
   "metadata": {},
   "outputs": [],
   "source": [
    "def get_fname(file_nb):\n",
    "    return (5-len(str(file_nb)))*'0'+str(file_nb)"
   ]
  },
  {
   "cell_type": "code",
   "execution_count": 15,
   "metadata": {},
   "outputs": [
    {
     "name": "stdout",
     "output_type": "stream",
     "text": [
      "Wall time: 1min 34s\n"
     ]
    }
   ],
   "source": [
    "%%time\n",
    "#train image\n",
    "import matplotlib.pyplot as plt\n",
    "import numpy as np\n",
    "\n",
    "pathtrain=\"train_images/\"\n",
    "train_images=np.zeros((nbtrain,512,512))\n",
    "nbtrain=2528\n",
    "\n",
    "for i in range (0,nbtrain):\n",
    "    imi=plt.imread(pathtrain+\"train_\"+get_fname(i)+\".png\")\n",
    "    train_images[i]=np.copy(imi)\n",
    "    \n",
    "\n",
    "    "
   ]
  },
  {
   "cell_type": "code",
   "execution_count": 16,
   "metadata": {},
   "outputs": [
    {
     "data": {
      "text/plain": [
       "(2528, 512, 512)"
      ]
     },
     "execution_count": 16,
     "metadata": {},
     "output_type": "execute_result"
    }
   ],
   "source": [
    "train_images.shape"
   ]
  },
  {
   "cell_type": "code",
   "execution_count": 17,
   "metadata": {},
   "outputs": [
    {
     "name": "stdout",
     "output_type": "stream",
     "text": [
      "Wall time: 32.6 s\n",
      "Compiler : 119 ms\n",
      "Parser   : 251 ms\n"
     ]
    }
   ],
   "source": [
    "%%time\n",
    "#train label\n",
    "import pandas as pd\n",
    "\n",
    "lab = pd.read_csv(\"train.csv\")\n",
    "\n",
    "train_labels = lab[\"Label\"].values"
   ]
  },
  {
   "cell_type": "code",
   "execution_count": 18,
   "metadata": {},
   "outputs": [
    {
     "data": {
      "text/plain": [
       "(2528,)"
      ]
     },
     "execution_count": 18,
     "metadata": {},
     "output_type": "execute_result"
    }
   ],
   "source": [
    "train_labels.shape"
   ]
  },
  {
   "cell_type": "code",
   "execution_count": null,
   "metadata": {},
   "outputs": [],
   "source": [
    "#cut train and test\n",
    "\n",
    "traini=np.copy(train_images[:2328])\n",
    "trainl=np.copy(train_labels[:2328])\n",
    "testi=np.copy(train_images[2328:])\n",
    "testl=np.copy(train_labels[2328:])\n"
   ]
  }
 ],
 "metadata": {
  "kernelspec": {
   "display_name": "Python 3",
   "language": "python",
   "name": "python3"
  },
  "language_info": {
   "codemirror_mode": {
    "name": "ipython",
    "version": 3
   },
   "file_extension": ".py",
   "mimetype": "text/x-python",
   "name": "python",
   "nbconvert_exporter": "python",
   "pygments_lexer": "ipython3",
   "version": "3.7.4"
  }
 },
 "nbformat": 4,
 "nbformat_minor": 2
}
