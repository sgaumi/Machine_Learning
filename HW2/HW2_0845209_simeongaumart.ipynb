{
 "cells": [
  {
   "cell_type": "markdown",
   "metadata": {},
   "source": [
    "## Machine Learning HW2\n",
    "0845209 . Siméon Gaumart"
   ]
  },
  {
   "cell_type": "code",
   "execution_count": 1,
   "metadata": {},
   "outputs": [],
   "source": [
    "#importing libs\n",
    "%matplotlib inline\n",
    "import numpy as np \n",
    "import pandas as pd \n",
    "from matplotlib import pyplot as plt"
   ]
  },
  {
   "cell_type": "code",
   "execution_count": 2,
   "metadata": {},
   "outputs": [
    {
     "name": "stdout",
     "output_type": "stream",
     "text": [
      "done\n"
     ]
    }
   ],
   "source": [
    "#importing datas\n",
    "try:\n",
    "    data = pd.read_csv('./MEAP93.csv')\n",
    "    math10=data[\"math10\"].values\n",
    "    lnchprg=data[\"lnchprg\"].values\n",
    "    expend=data[\"expend\"].values\n",
    "    logexpend=np.log10(expend)\n",
    "    print(\"done\")\n",
    "except:\n",
    "    print(\"error : read data fails\")\n",
    "    print(\"please put datas on the same folder\")"
   ]
  },
  {
   "cell_type": "markdown",
   "metadata": {},
   "source": [
    "# Problem 1"
   ]
  },
  {
   "cell_type": "markdown",
   "metadata": {},
   "source": [
    "# question a"
   ]
  },
  {
   "cell_type": "code",
   "execution_count": 3,
   "metadata": {},
   "outputs": [],
   "source": [
    "#define variables\n",
    "\n",
    "def init(etaf):\n",
    "\n",
    "    y = math10.reshape((len(math10),1))\n",
    "\n",
    "    X = np.ones((len(lnchprg),3))\n",
    "    for i in range (0,len(lnchprg)):\n",
    "        X[i,1]=logexpend[i]\n",
    "        X[i,2]=lnchprg[i]\n",
    "\n",
    "\n",
    "    w=[]\n",
    "    w.append(np.array([[1],[1],[1]]))\n",
    "\n",
    "    y_pred=[]\n",
    "    y_pred.append(X.dot(w[0]))\n",
    "\n",
    "    eta=etaf\n",
    "\n",
    "    tol=1e-5\n",
    "\n",
    "    error=[]\n",
    "    error.append(1)\n",
    "    \n",
    "    k=0\n",
    "    \n",
    "    return y,X,w,y_pred,eta,tol,error,k\n",
    "\n",
    "\n",
    "def F(wf,yf,Xf):\n",
    "    return (np.linalg.norm(yf-Xf.dot(wf),2))**2\n",
    "\n",
    "def dF(wf,yf,Xf):\n",
    "    Xt=np.transpose(Xf)\n",
    "    return ((2*Xt).dot(Xf)).dot(wf)-(2*Xt).dot(yf)\n",
    "\n"
   ]
  },
  {
   "cell_type": "code",
   "execution_count": 8,
   "metadata": {},
   "outputs": [
    {
     "name": "stdout",
     "output_type": "stream",
     "text": [
      "k =  17267\n",
      "sse =  114055.7613744898\n"
     ]
    },
    {
     "data": {
      "text/plain": [
       "[<matplotlib.lines.Line2D at 0x7f690bdf6c50>]"
      ]
     },
     "execution_count": 8,
     "metadata": {},
     "output_type": "execute_result"
    },
    {
     "data": {
      "image/png": "[encoded data removed]",
      "text/plain": [
       "<Figure size 432x288 with 2 Axes>"
      ]
     },
     "metadata": {
      "needs_background": "light"
     },
     "output_type": "display_data"
    }
   ],
   "source": [
    "y,X,w,y_pred,eta,tol,error,k=init(1e-10)\n",
    "\n",
    "\n",
    "while error[k]>=tol:\n",
    "    \n",
    "    w.append(w[k]-eta*dF(w[k],y,X))\n",
    "    \n",
    "    y_pred.append(X.dot(w[k+1]))\n",
    "    \n",
    "    error.append(np.linalg.norm(w[k]-w[k-1],2))\n",
    "    \n",
    "    k+=1\n",
    "\n",
    "print(\"k = \",k)\n",
    "\n",
    "y_pred_opti = y_pred[k]\n",
    "\n",
    "sse = (np.linalg.norm(y_pred_opti-y,2))**2\n",
    "print(\"sse = \",sse)\n",
    "\n",
    "Lk=[]\n",
    "for i in range(0,len(error)):\n",
    "    Lk.append(i)\n",
    "\n",
    "\n",
    "\n",
    "Lsse=[]\n",
    "for i in range(0,len(Lk)):\n",
    "    Lsse.append((np.linalg.norm(y_pred[i]-y,2))**2)\n",
    "\n",
    "plt.subplot(2,1,1)\n",
    "plt.plot(Lk[1:],error[1:])\n",
    "plt.subplot(2,1,2)\n",
    "plt.plot(Lk[0:],Lsse[0:])"
   ]
  },
  {
   "cell_type": "markdown",
   "metadata": {},
   "source": [
    "# question b"
   ]
  },
  {
   "cell_type": "code",
   "execution_count": 6,
   "metadata": {},
   "outputs": [
    {
     "name": "stdout",
     "output_type": "stream",
     "text": [
      "k =  400\n",
      "sse =  nan\n"
     ]
    },
    {
     "name": "stderr",
     "output_type": "stream",
     "text": [
      "/home/asministrateur/anaconda3/lib/python3.7/site-packages/ipykernel_launcher.py:6: RuntimeWarning: invalid value encountered in subtract\n",
      "  \n"
     ]
    },
    {
     "data": {
      "text/plain": [
       "[<matplotlib.lines.Line2D at 0x7f690bf7aa90>]"
      ]
     },
     "execution_count": 6,
     "metadata": {},
     "output_type": "execute_result"
    },
    {
     "data": {
      "image/png": "[encoded data removed]",
      "text/plain": [
       "<Figure size 432x288 with 1 Axes>"
      ]
     },
     "metadata": {
      "needs_background": "light"
     },
     "output_type": "display_data"
    }
   ],
   "source": [
    "y,X,w,y_pred,eta,tol,error,k=init(1e-5)\n",
    "\n",
    "\n",
    "while error[k]>=tol and k<100000:\n",
    "    \n",
    "    w.append(w[k]-eta*dF(w[k],y,X))\n",
    "    \n",
    "    y_pred.append(X.dot(w[k+1]))\n",
    "    \n",
    "    error.append(np.linalg.norm(w[k]-w[k-1],2))\n",
    "    \n",
    "    k+=1\n",
    "\n",
    "print(\"k = \",k)\n",
    "\n",
    "y_pred_opti = y_pred[k]\n",
    "\n",
    "sse = (np.linalg.norm(y_pred_opti-y,2))**2\n",
    "print(\"sse = \",sse)\n",
    "\n",
    "\n",
    "\n",
    "Lk=[]\n",
    "for i in range(0,len(error)):\n",
    "    Lk.append(i)\n",
    "\n",
    "plt.plot(Lk[:399],error[:399])\n",
    "\n"
   ]
  },
  {
   "cell_type": "markdown",
   "metadata": {},
   "source": [
    "# question d"
   ]
  },
  {
   "cell_type": "code",
   "execution_count": 6,
   "metadata": {},
   "outputs": [
    {
     "name": "stdout",
     "output_type": "stream",
     "text": [
      "36753.355134970734\n"
     ]
    }
   ],
   "source": [
    "w_hw1=np.array([[-20.360816474189132],[14.344410366129082],[-0.30458530220642444]])\n",
    "y_pred_opti_hw1=X.dot(w_hw1)\n",
    "sse_hw1= (np.linalg.norm(y_pred_opti_hw1-y,2))**2\n",
    "print(sse_hw1)"
   ]
  },
  {
   "cell_type": "markdown",
   "metadata": {},
   "source": [
    "# Problem 2"
   ]
  },
  {
   "cell_type": "code",
   "execution_count": 1,
   "metadata": {},
   "outputs": [
    {
     "name": "stdout",
     "output_type": "stream",
     "text": [
      "(60000, 28, 28)\n",
      "(60000,)\n",
      "(10000, 28, 28)\n",
      "(10000,)\n"
     ]
    }
   ],
   "source": [
    "import mnist #package from https://github.com/datapythonista/mnist to read mnist datas\n",
    "\n",
    "train_images = mnist.train_images()\n",
    "train_labels = mnist.train_labels()\n",
    "\n",
    "test_images = mnist.test_images()\n",
    "test_labels = mnist.test_labels()\n",
    "\n",
    "print(train_images.shape)\n",
    "print(train_labels.shape)\n",
    "print(test_images.shape)\n",
    "print(test_labels.shape)"
   ]
  },
  {
   "cell_type": "code",
   "execution_count": 2,
   "metadata": {},
   "outputs": [
    {
     "name": "stdout",
     "output_type": "stream",
     "text": [
      "(60000, 784)\n",
      "(10000, 784)\n"
     ]
    }
   ],
   "source": [
    "#reshape train_images and test_images that it fits with sklearn\n",
    "X_train = train_images.reshape((train_images.shape[0], train_images.shape[1] * train_images.shape[2]))\n",
    "X_test = test_images.reshape((test_images.shape[0], test_images.shape[1] * test_images.shape[2]))\n",
    "print(X_train.shape)\n",
    "print(X_test.shape)"
   ]
  },
  {
   "cell_type": "markdown",
   "metadata": {},
   "source": [
    "# question a"
   ]
  },
  {
   "cell_type": "code",
   "execution_count": 3,
   "metadata": {},
   "outputs": [],
   "source": [
    "import sklearn.neighbors as skneighbors"
   ]
  },
  {
   "cell_type": "code",
   "execution_count": 4,
   "metadata": {},
   "outputs": [
    {
     "name": "stdout",
     "output_type": "stream",
     "text": [
      "KNeighborsClassifier(algorithm='auto', leaf_size=30, metric='minkowski',\n",
      "                     metric_params=None, n_jobs=None, n_neighbors=1, p=2,\n",
      "                     weights='uniform')\n",
      "CPU times: user 1min 28s, sys: 563 ms, total: 1min 28s\n",
      "Wall time: 1min 29s\n"
     ]
    }
   ],
   "source": [
    "%%time\n",
    "model1 = skneighbors.KNeighborsClassifier(n_neighbors=1)\n",
    "#model1 = skneighbors.NearestNeighbors(n_neighbors=1)\n",
    "model1.fit(X_train,train_labels)\n",
    "print(model1)"
   ]
  },
  {
   "cell_type": "code",
   "execution_count": 5,
   "metadata": {},
   "outputs": [
    {
     "name": "stdout",
     "output_type": "stream",
     "text": [
      "k=1  score=96.91%\n",
      "CPU times: user 21min 12s, sys: 275 ms, total: 21min 12s\n",
      "Wall time: 21min 15s\n"
     ]
    }
   ],
   "source": [
    "%%time\n",
    "score1 = model1.score(X_test, test_labels)\n",
    "print(\"k=1  score=\"+str(score1*100)+\"%\")"
   ]
  },
  {
   "cell_type": "code",
   "execution_count": 4,
   "metadata": {},
   "outputs": [
    {
     "name": "stdout",
     "output_type": "stream",
     "text": [
      "KNeighborsClassifier(algorithm='auto', leaf_size=30, metric='minkowski',\n",
      "                     metric_params=None, n_jobs=None, n_neighbors=5, p=2,\n",
      "                     weights='uniform')\n",
      "CPU times: user 1min 28s, sys: 518 ms, total: 1min 28s\n",
      "Wall time: 1min 28s\n"
     ]
    }
   ],
   "source": [
    "%%time\n",
    "model5 = skneighbors.KNeighborsClassifier(n_neighbors=5)\n",
    "model5.fit(X_train,train_labels)\n",
    "print(model5)"
   ]
  },
  {
   "cell_type": "code",
   "execution_count": 5,
   "metadata": {},
   "outputs": [
    {
     "name": "stdout",
     "output_type": "stream",
     "text": [
      "k=5  score=96.88%\n",
      "CPU times: user 22min 11s, sys: 336 ms, total: 22min 12s\n",
      "Wall time: 22min 14s\n"
     ]
    }
   ],
   "source": [
    "%%time\n",
    "score = model5.score(X_test, test_labels)\n",
    "print(\"k=5  score=\"+str(score*100)+\"%\")"
   ]
  },
  {
   "cell_type": "markdown",
   "metadata": {},
   "source": [
    "# question b"
   ]
  },
  {
   "cell_type": "code",
   "execution_count": 3,
   "metadata": {},
   "outputs": [],
   "source": [
    "import sklearn.svm as sksvm"
   ]
  },
  {
   "cell_type": "code",
   "execution_count": null,
   "metadata": {},
   "outputs": [],
   "source": [
    "# !!!THIS TRAINING IS TOO LONG, I CAN'T RUN IT ON MY COMPUTER!!! #\n",
    "%%time\n",
    "modelSVM = sksvm.SVC(kernel='linear')\n",
    "modelSVM.fit(X_train, train_labels)\n",
    "print(modelSVM)"
   ]
  },
  {
   "cell_type": "code",
   "execution_count": 4,
   "metadata": {},
   "outputs": [
    {
     "name": "stdout",
     "output_type": "stream",
     "text": [
      "(31000, 784)\n",
      "(31000,)\n"
     ]
    }
   ],
   "source": [
    "X_train10 = X_train[:31000]\n",
    "train_labels10 = train_labels[:31000]\n",
    "print(X_train10.shape)\n",
    "print(train_labels10.shape)"
   ]
  },
  {
   "cell_type": "code",
   "execution_count": 5,
   "metadata": {},
   "outputs": [
    {
     "name": "stdout",
     "output_type": "stream",
     "text": [
      "SVC(C=1.0, cache_size=200, class_weight=None, coef0=0.0,\n",
      "    decision_function_shape='ovr', degree=3, gamma='auto_deprecated',\n",
      "    kernel='linear', max_iter=-1, probability=False, random_state=None,\n",
      "    shrinking=True, tol=0.001, verbose=False)\n",
      "CPU times: user 18min 7s, sys: 543 ms, total: 18min 7s\n",
      "Wall time: 18min 9s\n"
     ]
    }
   ],
   "source": [
    "%%time\n",
    "modelSVM = sksvm.SVC(kernel='linear')\n",
    "modelSVM.fit(X_train10, train_labels10)\n",
    "print(modelSVM)"
   ]
  },
  {
   "cell_type": "code",
   "execution_count": 6,
   "metadata": {},
   "outputs": [
    {
     "name": "stdout",
     "output_type": "stream",
     "text": [
      "SVM  score=91.28%\n",
      "CPU times: user 1min 18s, sys: 36 ms, total: 1min 18s\n",
      "Wall time: 1min 18s\n"
     ]
    }
   ],
   "source": [
    "%%time\n",
    "scoreSVM = modelSVM.score(X_test,test_labels)\n",
    "print(\"SVM  score=\"+str(scoreSVM*100)+\"%\")"
   ]
  },
  {
   "cell_type": "code",
   "execution_count": 10,
   "metadata": {},
   "outputs": [],
   "source": [
    "L_number_training_images=[100,500,1000,3000,6000,10000,20000,30000,31000]\n",
    "L_training_cpu_times=[0.0237,0.342,0.881,3.68,10.4,23.6,88,535,1087]\n",
    "L_testing_cpu_times=[1.06,4.68,7.63,15.7,25.2,35.8,57.4,75,78]\n",
    "L_testing_scores=[69.3,85.14,87.58,90.13,91,91.23,91.43,91.45,91.28]\n"
   ]
  },
  {
   "cell_type": "code",
   "execution_count": 11,
   "metadata": {},
   "outputs": [
    {
     "data": {
      "image/png": "[encoded data removed]",
      "text/plain": [
       "<Figure size 432x288 with 1 Axes>"
      ]
     },
     "metadata": {
      "needs_background": "light"
     },
     "output_type": "display_data"
    }
   ],
   "source": [
    "plt.plot(L_number_training_images,L_training_cpu_times)\n",
    "plt.show()"
   ]
  },
  {
   "cell_type": "code",
   "execution_count": 12,
   "metadata": {},
   "outputs": [
    {
     "data": {
      "image/png": "[encoded data removed]",
      "text/plain": [
       "<Figure size 432x288 with 1 Axes>"
      ]
     },
     "metadata": {
      "needs_background": "light"
     },
     "output_type": "display_data"
    }
   ],
   "source": [
    "plt.plot(L_number_training_images,L_testing_cpu_times)\n",
    "plt.show()"
   ]
  },
  {
   "cell_type": "code",
   "execution_count": 13,
   "metadata": {},
   "outputs": [
    {
     "data": {
      "image/png": "[encoded data removed]",
      "text/plain": [
       "<Figure size 432x288 with 1 Axes>"
      ]
     },
     "metadata": {
      "needs_background": "light"
     },
     "output_type": "display_data"
    }
   ],
   "source": [
    "plt.plot(L_number_training_images,L_testing_scores)\n",
    "plt.show()"
   ]
  },
  {
   "cell_type": "markdown",
   "metadata": {},
   "source": [
    "# question c"
   ]
  },
  {
   "cell_type": "code",
   "execution_count": 5,
   "metadata": {},
   "outputs": [
    {
     "name": "stdout",
     "output_type": "stream",
     "text": [
      "KernelDensity(algorithm='auto', atol=0, bandwidth=1.0, breadth_first=True,\n",
      "              kernel='gaussian', leaf_size=40, metric='euclidean',\n",
      "              metric_params=None, rtol=0)\n",
      "CPU times: user 1min 28s, sys: 552 ms, total: 1min 29s\n",
      "Wall time: 1min 29s\n"
     ]
    }
   ],
   "source": [
    "%%time\n",
    "modelkde = skneighbors.KernelDensity()\n",
    "#modelkde.fit(X_train,train_labels)\n",
    "modelkde.fit(X_train)\n",
    "print(modelkde)"
   ]
  },
  {
   "cell_type": "code",
   "execution_count": 6,
   "metadata": {},
   "outputs": [
    {
     "name": "stdout",
     "output_type": "stream",
     "text": [
      "KDE  score=-368288374603.8299\n",
      "CPU times: user 22min 20s, sys: 9.54 s, total: 22min 30s\n",
      "Wall time: 22min 30s\n"
     ]
    }
   ],
   "source": [
    "%%time\n",
    "#scorekde = modelkde.score(X_test, test_labels)\n",
    "scorekde = modelkde.score(X_test)\n",
    "print(\"KDE  score=\"+str(scorekde*100))"
   ]
  },
  {
   "cell_type": "code",
   "execution_count": null,
   "metadata": {},
   "outputs": [],
   "source": []
  }
 ],
 "metadata": {
  "kernelspec": {
   "display_name": "Python 3",
   "language": "python",
   "name": "python3"
  },
  "language_info": {
   "codemirror_mode": {
    "name": "ipython",
    "version": 3
   },
   "file_extension": ".py",
   "mimetype": "text/x-python",
   "name": "python",
   "nbconvert_exporter": "python",
   "pygments_lexer": "ipython3",
   "version": "3.7.4"
  }
 },
 "nbformat": 4,
 "nbformat_minor": 2
}
