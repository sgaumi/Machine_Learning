{
 "cells": [
  {
   "cell_type": "markdown",
   "metadata": {
    "id": "m-SU_vHRRjmW"
   },
   "source": [
    "# TP1.KNN"
   ]
  },
  {
   "cell_type": "markdown",
   "metadata": {
    "id": "v_amflZNRfQv"
   },
   "source": [
    "# Jeux de données"
   ]
  },
  {
   "cell_type": "code",
   "execution_count": null,
   "metadata": {
    "id": "IXNJm4ByMA00"
   },
   "outputs": [],
   "source": [
    "from sklearn.datasets import fetch_mldata\n",
    "#dead"
   ]
  },
  {
   "cell_type": "code",
   "execution_count": null,
   "metadata": {
    "id": "4mlxxICIH4U5"
   },
   "outputs": [],
   "source": [
    "from sklearn.datasets import fetch_openml"
   ]
  },
  {
   "cell_type": "code",
   "execution_count": null,
   "metadata": {
    "id": "cXvl_awSLFMI"
   },
   "outputs": [],
   "source": [
    "mnist = fetch_openml('mnist_784')"
   ]
  },
  {
   "cell_type": "code",
   "execution_count": null,
   "metadata": {
    "colab": {
     "base_uri": "https://localhost:8080/"
    },
    "id": "ZVGxvNLZLuHO",
    "outputId": "c6283fc5-596d-4190-d80b-e7f5c7c086a0"
   },
   "outputs": [
    {
     "name": "stdout",
     "output_type": "stream",
     "text": [
      "{'data': array([[0., 0., 0., ..., 0., 0., 0.],\n",
      "       [0., 0., 0., ..., 0., 0., 0.],\n",
      "       [0., 0., 0., ..., 0., 0., 0.],\n",
      "       ...,\n",
      "       [0., 0., 0., ..., 0., 0., 0.],\n",
      "       [0., 0., 0., ..., 0., 0., 0.],\n",
      "       [0., 0., 0., ..., 0., 0., 0.]]), 'target': array(['5', '0', '4', ..., '4', '5', '6'], dtype=object), 'frame': None, 'feature_names': ['pixel1', 'pixel2', 'pixel3', 'pixel4', 'pixel5', 'pixel6', 'pixel7', 'pixel8', 'pixel9', 'pixel10', 'pixel11', 'pixel12', 'pixel13', 'pixel14', 'pixel15', 'pixel16', 'pixel17', 'pixel18', 'pixel19', 'pixel20', 'pixel21', 'pixel22', 'pixel23', 'pixel24', 'pixel25', 'pixel26', 'pixel27', 'pixel28', 'pixel29', 'pixel30', 'pixel31', 'pixel32', 'pixel33', 'pixel34', 'pixel35', 'pixel36', 'pixel37', 'pixel38', 'pixel39', 'pixel40', 'pixel41', 'pixel42', 'pixel43', 'pixel44', 'pixel45', 'pixel46', 'pixel47', 'pixel48', 'pixel49', 'pixel50', 'pixel51', 'pixel52', 'pixel53', 'pixel54', 'pixel55', 'pixel56', 'pixel57', 'pixel58', 'pixel59', 'pixel60', 'pixel61', 'pixel62', 'pixel63', 'pixel64', 'pixel65', 'pixel66', 'pixel67', 'pixel68', 'pixel69', 'pixel70', 'pixel71', 'pixel72', 'pixel73', 'pixel74', 'pixel75', 'pixel76', 'pixel77', 'pixel78', 'pixel79', 'pixel80', 'pixel81', 'pixel82', 'pixel83', 'pixel84', 'pixel85', 'pixel86', 'pixel87', 'pixel88', 'pixel89', 'pixel90', 'pixel91', 'pixel92', 'pixel93', 'pixel94', 'pixel95', 'pixel96', 'pixel97', 'pixel98', 'pixel99', 'pixel100', 'pixel101', 'pixel102', 'pixel103', 'pixel104', 'pixel105', 'pixel106', 'pixel107', 'pixel108', 'pixel109', 'pixel110', 'pixel111', 'pixel112', 'pixel113', 'pixel114', 'pixel115', 'pixel116', 'pixel117', 'pixel118', 'pixel119', 'pixel120', 'pixel121', 'pixel122', 'pixel123', 'pixel124', 'pixel125', 'pixel126', 'pixel127', 'pixel128', 'pixel129', 'pixel130', 'pixel131', 'pixel132', 'pixel133', 'pixel134', 'pixel135', 'pixel136', 'pixel137', 'pixel138', 'pixel139', 'pixel140', 'pixel141', 'pixel142', 'pixel143', 'pixel144', 'pixel145', 'pixel146', 'pixel147', 'pixel148', 'pixel149', 'pixel150', 'pixel151', 'pixel152', 'pixel153', 'pixel154', 'pixel155', 'pixel156', 'pixel157', 'pixel158', 'pixel159', 'pixel160', 'pixel161', 'pixel162', 'pixel163', 'pixel164', 'pixel165', 'pixel166', 'pixel167', 'pixel168', 'pixel169', 'pixel170', 'pixel171', 'pixel172', 'pixel173', 'pixel174', 'pixel175', 'pixel176', 'pixel177', 'pixel178', 'pixel179', 'pixel180', 'pixel181', 'pixel182', 'pixel183', 'pixel184', 'pixel185', 'pixel186', 'pixel187', 'pixel188', 'pixel189', 'pixel190', 'pixel191', 'pixel192', 'pixel193', 'pixel194', 'pixel195', 'pixel196', 'pixel197', 'pixel198', 'pixel199', 'pixel200', 'pixel201', 'pixel202', 'pixel203', 'pixel204', 'pixel205', 'pixel206', 'pixel207', 'pixel208', 'pixel209', 'pixel210', 'pixel211', 'pixel212', 'pixel213', 'pixel214', 'pixel215', 'pixel216', 'pixel217', 'pixel218', 'pixel219', 'pixel220', 'pixel221', 'pixel222', 'pixel223', 'pixel224', 'pixel225', 'pixel226', 'pixel227', 'pixel228', 'pixel229', 'pixel230', 'pixel231', 'pixel232', 'pixel233', 'pixel234', 'pixel235', 'pixel236', 'pixel237', 'pixel238', 'pixel239', 'pixel240', 'pixel241', 'pixel242', 'pixel243', 'pixel244', 'pixel245', 'pixel246', 'pixel247', 'pixel248', 'pixel249', 'pixel250', 'pixel251', 'pixel252', 'pixel253', 'pixel254', 'pixel255', 'pixel256', 'pixel257', 'pixel258', 'pixel259', 'pixel260', 'pixel261', 'pixel262', 'pixel263', 'pixel264', 'pixel265', 'pixel266', 'pixel267', 'pixel268', 'pixel269', 'pixel270', 'pixel271', 'pixel272', 'pixel273', 'pixel274', 'pixel275', 'pixel276', 'pixel277', 'pixel278', 'pixel279', 'pixel280', 'pixel281', 'pixel282', 'pixel283', 'pixel284', 'pixel285', 'pixel286', 'pixel287', 'pixel288', 'pixel289', 'pixel290', 'pixel291', 'pixel292', 'pixel293', 'pixel294', 'pixel295', 'pixel296', 'pixel297', 'pixel298', 'pixel299', 'pixel300', 'pixel301', 'pixel302', 'pixel303', 'pixel304', 'pixel305', 'pixel306', 'pixel307', 'pixel308', 'pixel309', 'pixel310', 'pixel311', 'pixel312', 'pixel313', 'pixel314', 'pixel315', 'pixel316', 'pixel317', 'pixel318', 'pixel319', 'pixel320', 'pixel321', 'pixel322', 'pixel323', 'pixel324', 'pixel325', 'pixel326', 'pixel327', 'pixel328', 'pixel329', 'pixel330', 'pixel331', 'pixel332', 'pixel333', 'pixel334', 'pixel335', 'pixel336', 'pixel337', 'pixel338', 'pixel339', 'pixel340', 'pixel341', 'pixel342', 'pixel343', 'pixel344', 'pixel345', 'pixel346', 'pixel347', 'pixel348', 'pixel349', 'pixel350', 'pixel351', 'pixel352', 'pixel353', 'pixel354', 'pixel355', 'pixel356', 'pixel357', 'pixel358', 'pixel359', 'pixel360', 'pixel361', 'pixel362', 'pixel363', 'pixel364', 'pixel365', 'pixel366', 'pixel367', 'pixel368', 'pixel369', 'pixel370', 'pixel371', 'pixel372', 'pixel373', 'pixel374', 'pixel375', 'pixel376', 'pixel377', 'pixel378', 'pixel379', 'pixel380', 'pixel381', 'pixel382', 'pixel383', 'pixel384', 'pixel385', 'pixel386', 'pixel387', 'pixel388', 'pixel389', 'pixel390', 'pixel391', 'pixel392', 'pixel393', 'pixel394', 'pixel395', 'pixel396', 'pixel397', 'pixel398', 'pixel399', 'pixel400', 'pixel401', 'pixel402', 'pixel403', 'pixel404', 'pixel405', 'pixel406', 'pixel407', 'pixel408', 'pixel409', 'pixel410', 'pixel411', 'pixel412', 'pixel413', 'pixel414', 'pixel415', 'pixel416', 'pixel417', 'pixel418', 'pixel419', 'pixel420', 'pixel421', 'pixel422', 'pixel423', 'pixel424', 'pixel425', 'pixel426', 'pixel427', 'pixel428', 'pixel429', 'pixel430', 'pixel431', 'pixel432', 'pixel433', 'pixel434', 'pixel435', 'pixel436', 'pixel437', 'pixel438', 'pixel439', 'pixel440', 'pixel441', 'pixel442', 'pixel443', 'pixel444', 'pixel445', 'pixel446', 'pixel447', 'pixel448', 'pixel449', 'pixel450', 'pixel451', 'pixel452', 'pixel453', 'pixel454', 'pixel455', 'pixel456', 'pixel457', 'pixel458', 'pixel459', 'pixel460', 'pixel461', 'pixel462', 'pixel463', 'pixel464', 'pixel465', 'pixel466', 'pixel467', 'pixel468', 'pixel469', 'pixel470', 'pixel471', 'pixel472', 'pixel473', 'pixel474', 'pixel475', 'pixel476', 'pixel477', 'pixel478', 'pixel479', 'pixel480', 'pixel481', 'pixel482', 'pixel483', 'pixel484', 'pixel485', 'pixel486', 'pixel487', 'pixel488', 'pixel489', 'pixel490', 'pixel491', 'pixel492', 'pixel493', 'pixel494', 'pixel495', 'pixel496', 'pixel497', 'pixel498', 'pixel499', 'pixel500', 'pixel501', 'pixel502', 'pixel503', 'pixel504', 'pixel505', 'pixel506', 'pixel507', 'pixel508', 'pixel509', 'pixel510', 'pixel511', 'pixel512', 'pixel513', 'pixel514', 'pixel515', 'pixel516', 'pixel517', 'pixel518', 'pixel519', 'pixel520', 'pixel521', 'pixel522', 'pixel523', 'pixel524', 'pixel525', 'pixel526', 'pixel527', 'pixel528', 'pixel529', 'pixel530', 'pixel531', 'pixel532', 'pixel533', 'pixel534', 'pixel535', 'pixel536', 'pixel537', 'pixel538', 'pixel539', 'pixel540', 'pixel541', 'pixel542', 'pixel543', 'pixel544', 'pixel545', 'pixel546', 'pixel547', 'pixel548', 'pixel549', 'pixel550', 'pixel551', 'pixel552', 'pixel553', 'pixel554', 'pixel555', 'pixel556', 'pixel557', 'pixel558', 'pixel559', 'pixel560', 'pixel561', 'pixel562', 'pixel563', 'pixel564', 'pixel565', 'pixel566', 'pixel567', 'pixel568', 'pixel569', 'pixel570', 'pixel571', 'pixel572', 'pixel573', 'pixel574', 'pixel575', 'pixel576', 'pixel577', 'pixel578', 'pixel579', 'pixel580', 'pixel581', 'pixel582', 'pixel583', 'pixel584', 'pixel585', 'pixel586', 'pixel587', 'pixel588', 'pixel589', 'pixel590', 'pixel591', 'pixel592', 'pixel593', 'pixel594', 'pixel595', 'pixel596', 'pixel597', 'pixel598', 'pixel599', 'pixel600', 'pixel601', 'pixel602', 'pixel603', 'pixel604', 'pixel605', 'pixel606', 'pixel607', 'pixel608', 'pixel609', 'pixel610', 'pixel611', 'pixel612', 'pixel613', 'pixel614', 'pixel615', 'pixel616', 'pixel617', 'pixel618', 'pixel619', 'pixel620', 'pixel621', 'pixel622', 'pixel623', 'pixel624', 'pixel625', 'pixel626', 'pixel627', 'pixel628', 'pixel629', 'pixel630', 'pixel631', 'pixel632', 'pixel633', 'pixel634', 'pixel635', 'pixel636', 'pixel637', 'pixel638', 'pixel639', 'pixel640', 'pixel641', 'pixel642', 'pixel643', 'pixel644', 'pixel645', 'pixel646', 'pixel647', 'pixel648', 'pixel649', 'pixel650', 'pixel651', 'pixel652', 'pixel653', 'pixel654', 'pixel655', 'pixel656', 'pixel657', 'pixel658', 'pixel659', 'pixel660', 'pixel661', 'pixel662', 'pixel663', 'pixel664', 'pixel665', 'pixel666', 'pixel667', 'pixel668', 'pixel669', 'pixel670', 'pixel671', 'pixel672', 'pixel673', 'pixel674', 'pixel675', 'pixel676', 'pixel677', 'pixel678', 'pixel679', 'pixel680', 'pixel681', 'pixel682', 'pixel683', 'pixel684', 'pixel685', 'pixel686', 'pixel687', 'pixel688', 'pixel689', 'pixel690', 'pixel691', 'pixel692', 'pixel693', 'pixel694', 'pixel695', 'pixel696', 'pixel697', 'pixel698', 'pixel699', 'pixel700', 'pixel701', 'pixel702', 'pixel703', 'pixel704', 'pixel705', 'pixel706', 'pixel707', 'pixel708', 'pixel709', 'pixel710', 'pixel711', 'pixel712', 'pixel713', 'pixel714', 'pixel715', 'pixel716', 'pixel717', 'pixel718', 'pixel719', 'pixel720', 'pixel721', 'pixel722', 'pixel723', 'pixel724', 'pixel725', 'pixel726', 'pixel727', 'pixel728', 'pixel729', 'pixel730', 'pixel731', 'pixel732', 'pixel733', 'pixel734', 'pixel735', 'pixel736', 'pixel737', 'pixel738', 'pixel739', 'pixel740', 'pixel741', 'pixel742', 'pixel743', 'pixel744', 'pixel745', 'pixel746', 'pixel747', 'pixel748', 'pixel749', 'pixel750', 'pixel751', 'pixel752', 'pixel753', 'pixel754', 'pixel755', 'pixel756', 'pixel757', 'pixel758', 'pixel759', 'pixel760', 'pixel761', 'pixel762', 'pixel763', 'pixel764', 'pixel765', 'pixel766', 'pixel767', 'pixel768', 'pixel769', 'pixel770', 'pixel771', 'pixel772', 'pixel773', 'pixel774', 'pixel775', 'pixel776', 'pixel777', 'pixel778', 'pixel779', 'pixel780', 'pixel781', 'pixel782', 'pixel783', 'pixel784'], 'target_names': ['class'], 'DESCR': \"**Author**: Yann LeCun, Corinna Cortes, Christopher J.C. Burges  \\n**Source**: [MNIST Website](http://yann.lecun.com/exdb/mnist/) - Date unknown  \\n**Please cite**:  \\n\\nThe MNIST database of handwritten digits with 784 features, raw data available at: http://yann.lecun.com/exdb/mnist/. It can be split in a training set of the first 60,000 examples, and a test set of 10,000 examples  \\n\\nIt is a subset of a larger set available from NIST. The digits have been size-normalized and centered in a fixed-size image. It is a good database for people who want to try learning techniques and pattern recognition methods on real-world data while spending minimal efforts on preprocessing and formatting. The original black and white (bilevel) images from NIST were size normalized to fit in a 20x20 pixel box while preserving their aspect ratio. The resulting images contain grey levels as a result of the anti-aliasing technique used by the normalization algorithm. the images were centered in a 28x28 image by computing the center of mass of the pixels, and translating the image so as to position this point at the center of the 28x28 field.  \\n\\nWith some classification methods (particularly template-based methods, such as SVM and K-nearest neighbors), the error rate improves when the digits are centered by bounding box rather than center of mass. If you do this kind of pre-processing, you should report it in your publications. The MNIST database was constructed from NIST's NIST originally designated SD-3 as their training set and SD-1 as their test set. However, SD-3 is much cleaner and easier to recognize than SD-1. The reason for this can be found on the fact that SD-3 was collected among Census Bureau employees, while SD-1 was collected among high-school students. Drawing sensible conclusions from learning experiments requires that the result be independent of the choice of training set and test among the complete set of samples. Therefore it was necessary to build a new database by mixing NIST's datasets.  \\n\\nThe MNIST training set is composed of 30,000 patterns from SD-3 and 30,000 patterns from SD-1. Our test set was composed of 5,000 patterns from SD-3 and 5,000 patterns from SD-1. The 60,000 pattern training set contained examples from approximately 250 writers. We made sure that the sets of writers of the training set and test set were disjoint. SD-1 contains 58,527 digit images written by 500 different writers. In contrast to SD-3, where blocks of data from each writer appeared in sequence, the data in SD-1 is scrambled. Writer identities for SD-1 is available and we used this information to unscramble the writers. We then split SD-1 in two: characters written by the first 250 writers went into our new training set. The remaining 250 writers were placed in our test set. Thus we had two sets with nearly 30,000 examples each. The new training set was completed with enough examples from SD-3, starting at pattern # 0, to make a full set of 60,000 training patterns. Similarly, the new test set was completed with SD-3 examples starting at pattern # 35,000 to make a full set with 60,000 test patterns. Only a subset of 10,000 test images (5,000 from SD-1 and 5,000 from SD-3) is available on this site. The full 60,000 sample training set is available.\\n\\nDownloaded from openml.org.\", 'details': {'id': '554', 'name': 'mnist_784', 'version': '1', 'format': 'ARFF', 'upload_date': '2014-09-29T03:28:38', 'licence': 'Public', 'url': 'https://www.openml.org/data/v1/download/52667/mnist_784.arff', 'file_id': '52667', 'default_target_attribute': 'class', 'tag': ['AzurePilot', 'OpenML-CC18', 'OpenML100', 'study_1', 'study_123', 'study_41', 'study_99', 'vision'], 'visibility': 'public', 'status': 'active', 'processing_date': '2018-10-03 21:23:30', 'md5_checksum': '0298d579eb1b86163de7723944c7e495'}, 'categories': {}, 'url': 'https://www.openml.org/d/554'}\n",
      "[[0. 0. 0. ... 0. 0. 0.]\n",
      " [0. 0. 0. ... 0. 0. 0.]\n",
      " [0. 0. 0. ... 0. 0. 0.]\n",
      " ...\n",
      " [0. 0. 0. ... 0. 0. 0.]\n",
      " [0. 0. 0. ... 0. 0. 0.]\n",
      " [0. 0. 0. ... 0. 0. 0.]]\n",
      "['5' '0' '4' ... '4' '5' '6']\n",
      "Help on built-in function len in module builtins:\n",
      "\n",
      "len(obj, /)\n",
      "    Return the number of items in a container.\n",
      "\n",
      "(70000, 784)\n",
      "(70000,)\n"
     ]
    },
    {
     "data": {
      "text/plain": [
       "array([[0., 0., 0., ..., 0., 0., 0.],\n",
       "       [0., 0., 0., ..., 0., 0., 0.],\n",
       "       [0., 0., 0., ..., 0., 0., 0.],\n",
       "       ...,\n",
       "       [0., 0., 0., ..., 0., 0., 0.],\n",
       "       [0., 0., 0., ..., 0., 0., 0.],\n",
       "       [0., 0., 0., ..., 0., 0., 0.]])"
      ]
     },
     "execution_count": 10,
     "metadata": {
      "tags": []
     },
     "output_type": "execute_result"
    }
   ],
   "source": [
    "#1\n",
    "print(mnist) \n",
    "print(mnist.data) \n",
    "print(mnist.target) \n",
    "len(mnist.data) \n",
    "help(len)     \n",
    "print(mnist.data.shape) \n",
    "print(mnist.target.shape) \n",
    "mnist.data[0] \n",
    "mnist.data[0][1] \n",
    "mnist.data[:,1] \n",
    "mnist.data[:100] "
   ]
  },
  {
   "cell_type": "code",
   "execution_count": null,
   "metadata": {
    "colab": {
     "base_uri": "https://localhost:8080/",
     "height": 283
    },
    "id": "oAdciZGaNT4v",
    "outputId": "b056be96-1066-44c8-9770-f5bfd7de81e9"
   },
   "outputs": [
    {
     "name": "stdout",
     "output_type": "stream",
     "text": [
      "classe : 5\n"
     ]
    },
    {
     "data": {
      "image/png": "[encoded data removed]",
      "text/plain": [
       "<Figure size 432x288 with 1 Axes>"
      ]
     },
     "metadata": {
      "needs_background": "light",
      "tags": []
     },
     "output_type": "display_data"
    }
   ],
   "source": [
    "#2\n",
    "from sklearn import datasets \n",
    "import matplotlib.pyplot as plt \n",
    "#mnist = datasets.fetch_mldata('MNIST original') \n",
    "images = mnist.data.reshape((-1, 28, 28))\n",
    "print(\"classe : \"+str(mnist.target[0])) \n",
    "plt.imshow(images[0],cmap=plt.cm.gray_r,interpolation=\"nearest\")\n",
    "#plt.imshow(images[0],interpolation=\"nearest\") \n",
    "plt.show()"
   ]
  },
  {
   "cell_type": "markdown",
   "metadata": {
    "id": "frtB97n7QhSE"
   },
   "source": [
    "gaumart@insa-11292:~$ python3 -c \"from sklearn import datasets;import matplotlib.pyplot as plt;mnist = datasets.fetch_openml('mnist_784');images = mnist.data.reshape((-1, 28, 28));plt.imshow(images[0],cmap=plt.cm.gray_r,interpolation='nearest');plt.show()\"\n"
   ]
  },
  {
   "cell_type": "markdown",
   "metadata": {
    "id": "JSfiQ7ePQMwj"
   },
   "source": [
    "![Capture du 2020-11-04 13-35-37.png](data:image/png;base64,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)"
   ]
  },
  {
   "cell_type": "code",
   "execution_count": null,
   "metadata": {
    "colab": {
     "base_uri": "https://localhost:8080/",
     "height": 1000
    },
    "id": "MNw2dGfdQfwV",
    "outputId": "8b2a36cb-d9da-4033-f9d4-1f96b4c71996"
   },
   "outputs": [
    {
     "name": "stdout",
     "output_type": "stream",
     "text": [
      "classe : 5\n"
     ]
    },
    {
     "data": {
      "image/png": "[encoded data removed]",
      "text/plain": [
       "<Figure size 432x288 with 1 Axes>"
      ]
     },
     "metadata": {
      "needs_background": "light",
      "tags": []
     },
     "output_type": "display_data"
    },
    {
     "name": "stdout",
     "output_type": "stream",
     "text": [
      "classe : 5\n"
     ]
    },
    {
     "data": {
      "image/png": "[encoded data removed]",
      "text/plain": [
       "<Figure size 432x288 with 1 Axes>"
      ]
     },
     "metadata": {
      "needs_background": "light",
      "tags": []
     },
     "output_type": "display_data"
    },
    {
     "name": "stdout",
     "output_type": "stream",
     "text": [
      "classe : 1\n"
     ]
    },
    {
     "data": {
      "image/png": "[encoded data removed]",
      "text/plain": [
       "<Figure size 432x288 with 1 Axes>"
      ]
     },
     "metadata": {
      "needs_background": "light",
      "tags": []
     },
     "output_type": "display_data"
    },
    {
     "name": "stdout",
     "output_type": "stream",
     "text": [
      "classe : 8\n"
     ]
    },
    {
     "data": {
      "image/png": "[encoded data removed]",
      "text/plain": [
       "<Figure size 432x288 with 1 Axes>"
      ]
     },
     "metadata": {
      "needs_background": "light",
      "tags": []
     },
     "output_type": "display_data"
    },
    {
     "name": "stdout",
     "output_type": "stream",
     "text": [
      "classe : 2\n"
     ]
    },
    {
     "data": {
      "image/png": "[encoded data removed]",
      "text/plain": [
       "<Figure size 432x288 with 1 Axes>"
      ]
     },
     "metadata": {
      "needs_background": "light",
      "tags": []
     },
     "output_type": "display_data"
    },
    {
     "name": "stdout",
     "output_type": "stream",
     "text": [
      "classe : 3\n"
     ]
    },
    {
     "data": {
      "image/png": "[encoded data removed]",
      "text/plain": [
       "<Figure size 432x288 with 1 Axes>"
      ]
     },
     "metadata": {
      "needs_background": "light",
      "tags": []
     },
     "output_type": "display_data"
    },
    {
     "name": "stdout",
     "output_type": "stream",
     "text": [
      "classe : 9\n"
     ]
    },
    {
     "data": {
      "image/png": "[encoded data removed]",
      "text/plain": [
       "<Figure size 432x288 with 1 Axes>"
      ]
     },
     "metadata": {
      "needs_background": "light",
      "tags": []
     },
     "output_type": "display_data"
    },
    {
     "name": "stdout",
     "output_type": "stream",
     "text": [
      "classe : 4\n"
     ]
    },
    {
     "data": {
      "image/png": "[encoded data removed]",
      "text/plain": [
       "<Figure size 432x288 with 1 Axes>"
      ]
     },
     "metadata": {
      "needs_background": "light",
      "tags": []
     },
     "output_type": "display_data"
    },
    {
     "name": "stdout",
     "output_type": "stream",
     "text": [
      "classe : 9\n"
     ]
    },
    {
     "data": {
      "image/png": "[encoded data removed]",
      "text/plain": [
       "<Figure size 432x288 with 1 Axes>"
      ]
     },
     "metadata": {
      "needs_background": "light",
      "tags": []
     },
     "output_type": "display_data"
    },
    {
     "name": "stdout",
     "output_type": "stream",
     "text": [
      "classe : 9\n"
     ]
    },
    {
     "data": {
      "image/png": "[encoded data removed]",
      "text/plain": [
       "<Figure size 432x288 with 1 Axes>"
      ]
     },
     "metadata": {
      "needs_background": "light",
      "tags": []
     },
     "output_type": "display_data"
    }
   ],
   "source": [
    "#3\n",
    "for i in range(0,10):\n",
    "\n",
    "  print(\"classe : \"+str(mnist.target[i*100])) \n",
    "  plt.imshow(images[i*100],cmap=plt.cm.gray_r,interpolation=\"nearest\")\n",
    "#plt.imshow(images[0],interpolation=\"nearest\") \n",
    "  plt.show()"
   ]
  },
  {
   "cell_type": "code",
   "execution_count": null,
   "metadata": {
    "colab": {
     "base_uri": "https://localhost:8080/"
    },
    "id": "pSYFHVnKRXut",
    "outputId": "682d42b0-4057-4fa7-f4b3-221870471ce2"
   },
   "outputs": [
    {
     "name": "stdout",
     "output_type": "stream",
     "text": [
      "(5000, 784)\n",
      "(5000,)\n"
     ]
    }
   ],
   "source": [
    "#Prendre un échantillon de données appelé data avec une taillede5000 exemples à l’aide de la fonction np.random.randint(70000, size=5000). \n",
    "import numpy as np\n",
    "\n",
    "rand = np.random.randint(70000, size=5000)\n",
    "data5000 = mnist.data[rand]\n",
    "label5000 = mnist.target[rand]\n",
    "print(data5000.shape)\n",
    "print(label5000.shape)\n"
   ]
  },
  {
   "cell_type": "code",
   "execution_count": null,
   "metadata": {
    "colab": {
     "base_uri": "https://localhost:8080/"
    },
    "id": "jBlvZpbVTAD2",
    "outputId": "1b51e40c-fbd5-4650-cb3a-8f91f85299bb"
   },
   "outputs": [
    {
     "name": "stdout",
     "output_type": "stream",
     "text": [
      "(4000, 784)\n",
      "(1000, 784)\n",
      "(4000,)\n",
      "(1000,)\n"
     ]
    }
   ],
   "source": [
    "#Diviser la base de données à 80% pour l’apprentissage (training) et à 20% pour les tests, \n",
    "from sklearn.model_selection import train_test_split\n",
    "xtrain, xtest, ytrain, ytest = train_test_split(data5000, label5000, train_size=0.8)\n",
    "print(xtrain.shape)\n",
    "print(xtest.shape)\n",
    "print(ytrain.shape)\n",
    "print(ytest.shape)"
   ]
  },
  {
   "cell_type": "code",
   "execution_count": null,
   "metadata": {
    "colab": {
     "base_uri": "https://localhost:8080/"
    },
    "id": "P7I-skj4UGCU",
    "outputId": "b444d671-75f2-4fc0-d29a-7d70d8ac32cb"
   },
   "outputs": [
    {
     "name": "stdout",
     "output_type": "stream",
     "text": [
      "training 0.37387990951538086 s\n",
      "predict 6.726114273071289 s\n",
      "CPU times: user 7.13 s, sys: 19.7 ms, total: 7.15 s\n",
      "Wall time: 7.36 s\n"
     ]
    }
   ],
   "source": [
    "%%time\n",
    "#Entrainer un classifieur k-nn avec k = 10 sur le jeu de données chargé.\n",
    "\n",
    "from sklearn.neighbors import KNeighborsClassifier as KNNs\n",
    "from time import time\n",
    "\n",
    "#training\n",
    "start=time()\n",
    "knn = KNNs(n_neighbors=10,p=2)\n",
    "knn.fit(xtrain,ytrain)\n",
    "end=time()\n",
    "print(\"training\",end-start,\"s\")\n",
    "\n",
    "#prediction\n",
    "start=time()\n",
    "ypredict=knn.predict(xtest)\n",
    "end=time()\n",
    "print(\"predict\",end-start,\"s\")"
   ]
  },
  {
   "cell_type": "code",
   "execution_count": null,
   "metadata": {
    "colab": {
     "base_uri": "https://localhost:8080/",
     "height": 375
    },
    "id": "eE0mNzprVTH6",
    "outputId": "16de5748-4124-4904-f7d0-02ef5e60784c"
   },
   "outputs": [
    {
     "name": "stdout",
     "output_type": "stream",
     "text": [
      "(1000,)\n",
      "\n",
      "real class : 3\n",
      "predict class : 3\n"
     ]
    },
    {
     "data": {
      "image/png": "[encoded data removed]",
      "text/plain": [
       "<Figure size 432x288 with 1 Axes>"
      ]
     },
     "metadata": {
      "needs_background": "light",
      "tags": []
     },
     "output_type": "display_data"
    },
    {
     "name": "stdout",
     "output_type": "stream",
     "text": [
      "CPU times: user 7.81 s, sys: 2.39 ms, total: 7.81 s\n",
      "Wall time: 7.82 s\n"
     ]
    }
   ],
   "source": [
    "%%time\n",
    "#Afficher la classe de l’image 4 et sa classe prédite.\n",
    "\n",
    "ypredict=knn.predict(xtest)\n",
    "print(str(ypredict.shape)+'\\n')\n",
    "\n",
    "print(\"real class : \"+str(ytest[3]))\n",
    "print(\"predict class : \"+str(ypredict[3]))\n",
    "im = xtest[3].reshape((28, 28)) \n",
    "plt.imshow(im,cmap=plt.cm.gray_r,interpolation=\"nearest\")\n",
    "#plt.imshow(images[0],interpolation=\"nearest\") \n",
    "plt.show()"
   ]
  },
  {
   "cell_type": "code",
   "execution_count": null,
   "metadata": {
    "colab": {
     "base_uri": "https://localhost:8080/"
    },
    "id": "r3gtDvhnW25n",
    "outputId": "9e9a664e-fbb0-4c98-862a-1600ad755e5b"
   },
   "outputs": [
    {
     "name": "stdout",
     "output_type": "stream",
     "text": [
      "0.93\n"
     ]
    }
   ],
   "source": [
    "#Afficher le score sur l’échantillon de test \n",
    "predictscore = knn.score(xtest,ytest)\n",
    "print(predictscore)"
   ]
  },
  {
   "cell_type": "markdown",
   "metadata": {
    "id": "xkVEGzt7X2l2"
   },
   "source": [
    "Quel est le taux d'erreur sur vos données d'apprentissage ? Est-ce normal ? \n",
    "Oui"
   ]
  },
  {
   "cell_type": "code",
   "execution_count": null,
   "metadata": {
    "colab": {
     "base_uri": "https://localhost:8080/"
    },
    "id": "t_9E2chMhZCN",
    "outputId": "a7fef9bb-de37-42cd-a298-f677787552c4"
   },
   "outputs": [
    {
     "name": "stdout",
     "output_type": "stream",
     "text": [
      "KFold(n_splits=10, random_state=None, shuffle=True)\n",
      "10\n",
      "TRAIN: [    0     1     2 ... 69997 69998 69999] (63000,) TEST: [   21    40    44 ... 69969 69976 69977] (7000,)\n",
      "TRAIN: [    0     1     2 ... 69997 69998 69999] (63000,) TEST: [    3    10    17 ... 69950 69964 69971] (7000,)\n",
      "TRAIN: [    0     1     2 ... 69996 69998 69999] (63000,) TEST: [    7    15    16 ... 69984 69993 69997] (7000,)\n",
      "TRAIN: [    0     1     2 ... 69996 69997 69998] (63000,) TEST: [   20    33    42 ... 69980 69991 69999] (7000,)\n",
      "TRAIN: [    0     2     3 ... 69997 69998 69999] (63000,) TEST: [    1     5    57 ... 69957 69961 69973] (7000,)\n",
      "TRAIN: [    0     1     3 ... 69997 69998 69999] (63000,) TEST: [    2     6    11 ... 69955 69968 69987] (7000,)\n",
      "TRAIN: [    0     1     2 ... 69997 69998 69999] (63000,) TEST: [   14    25    28 ... 69970 69978 69988] (7000,)\n",
      "TRAIN: [    0     1     2 ... 69997 69998 69999] (63000,) TEST: [    4     8    12 ... 69983 69994 69996] (7000,)\n",
      "TRAIN: [    0     1     2 ... 69997 69998 69999] (63000,) TEST: [    9    22    26 ... 69989 69990 69995] (7000,)\n",
      "TRAIN: [    1     2     3 ... 69996 69997 69999] (63000,) TEST: [    0    18    19 ... 69986 69992 69998] (7000,)\n"
     ]
    }
   ],
   "source": [
    "from sklearn.model_selection import KFold\n",
    "xdata=mnist.data\n",
    "ydata=mnist.target\n",
    "kf= KFold(n_splits=10,shuffle=True)\n",
    "print(kf)\n",
    "n=kf.get_n_splits(xdata)\n",
    "print(n)\n",
    "for train_index, test_index in kf.split(xdata):\n",
    "  print(\"TRAIN:\", train_index,train_index.shape, \"TEST:\", test_index,test_index.shape)\n",
    "  X_train, X_test = xdata[train_index], xdata[test_index]\n",
    "  y_train, y_test = ydata[train_index], ydata[test_index]"
   ]
  },
  {
   "cell_type": "code",
   "execution_count": null,
   "metadata": {
    "colab": {
     "base_uri": "https://localhost:8080/",
     "height": 283
    },
    "id": "681FVHfdX54o",
    "outputId": "9ba518a0-1439-41d9-bbc7-4c025f617770"
   },
   "outputs": [
    {
     "data": {
      "text/plain": [
       "[<matplotlib.lines.Line2D at 0x7f6f35113ac8>]"
      ]
     },
     "execution_count": 37,
     "metadata": {
      "tags": []
     },
     "output_type": "execute_result"
    },
    {
     "data": {
      "image/png": "[encoded data removed]",
      "text/plain": [
       "<Figure size 432x288 with 1 Axes>"
      ]
     },
     "metadata": {
      "needs_background": "light",
      "tags": []
     },
     "output_type": "display_data"
    }
   ],
   "source": [
    "#Faire varier le nombre de voisins (k) de 2 jusqu’à 15 et afficher le score. Quel est le k optimal ? \n",
    "\n",
    "k_=[]\n",
    "score_=[]\n",
    "\n",
    "for k in range(2,16):\n",
    "\n",
    "  knn=KNNs(n_neighbors=k,p=2)\n",
    "  knn.fit(xtrain,ytrain)\n",
    "  score = knn.score(xtest,ytest)\n",
    "  score_.append(score)\n",
    "  k_.append(k)\n",
    "\n",
    "plt.plot(k_,score_)\n",
    "\n",
    "\n",
    "\n",
    "\n",
    "\n",
    "\n"
   ]
  },
  {
   "cell_type": "code",
   "execution_count": null,
   "metadata": {
    "colab": {
     "base_uri": "https://localhost:8080/"
    },
    "id": "q0vVewr6ZB1S",
    "outputId": "33bc4c66-dfd3-49c6-f058-5cf0932671b5"
   },
   "outputs": [
    {
     "name": "stdout",
     "output_type": "stream",
     "text": [
      "6\n",
      "0.935\n",
      "0.935\n"
     ]
    }
   ],
   "source": [
    "print(score_.index(max(score_))+2)\n",
    "print(score_[4])\n",
    "print(score_[5])"
   ]
  },
  {
   "cell_type": "code",
   "execution_count": null,
   "metadata": {
    "colab": {
     "base_uri": "https://localhost:8080/",
     "height": 283
    },
    "id": "A7yoMS29aDHm",
    "outputId": "b075f49a-104c-4eed-a612-15a823fd46f4"
   },
   "outputs": [
    {
     "data": {
      "text/plain": [
       "[<matplotlib.lines.Line2D at 0x7f6f321c2a58>]"
      ]
     },
     "execution_count": 44,
     "metadata": {
      "tags": []
     },
     "output_type": "execute_result"
    },
    {
     "data": {
      "image/png": "[encoded data removed]",
      "text/plain": [
       "<Figure size 432x288 with 1 Axes>"
      ]
     },
     "metadata": {
      "needs_background": "light",
      "tags": []
     },
     "output_type": "display_data"
    }
   ],
   "source": [
    "#Faites varier le pourcentage des échantillons (training et test) et affichez le score. Quel est le pourcentage remarquable ?\n",
    "\n",
    "k = 10  #résultat dépend de k\n",
    "\n",
    "p_=[]\n",
    "score_=[]\n",
    "\n",
    "for p in range(1,10):\n",
    "\n",
    "  xtrain, xtest, ytrain, ytest = train_test_split(data5000, label5000, train_size=p/10)\n",
    "  knn = KNNs(n_neighbors=k,p=2)\n",
    "  knn.fit(xtrain,ytrain)\n",
    "  score = knn.score(xtest,ytest)\n",
    "  score_.append(score)\n",
    "  p_.append(p/10)\n",
    "\n",
    "plt.plot(p_,score_)\n",
    "\n",
    "\n"
   ]
  },
  {
   "cell_type": "code",
   "execution_count": null,
   "metadata": {
    "colab": {
     "base_uri": "https://localhost:8080/",
     "height": 283
    },
    "id": "XsEv_SU3dCQ-",
    "outputId": "0fe5deaf-050b-4655-988b-631ad66db165"
   },
   "outputs": [
    {
     "data": {
      "text/plain": [
       "[<matplotlib.lines.Line2D at 0x7f6f3218dba8>]"
      ]
     },
     "execution_count": 55,
     "metadata": {
      "tags": []
     },
     "output_type": "execute_result"
    },
    {
     "data": {
      "image/png": "[encoded data removed]",
      "text/plain": [
       "<Figure size 432x288 with 1 Axes>"
      ]
     },
     "metadata": {
      "needs_background": "light",
      "tags": []
     },
     "output_type": "display_data"
    }
   ],
   "source": [
    "#Faites varier la taille de l’échantillon training et affichez la précision. Qu'est-ce que vous remarquez \n",
    "\n",
    "t_=[]\n",
    "score_=[]\n",
    "\n",
    "for t in range(1000,15001,1000):\n",
    "  rand = np.random.randint(70000, size=t)\n",
    "  datat = mnist.data[rand]\n",
    "  labelt = mnist.target[rand]\n",
    "  xtrain, xtest, ytrain, ytest = train_test_split(datat, labelt, train_size=0.8)\n",
    "  knn = KNNs(n_neighbors=10,p=2)\n",
    "  knn.fit(xtrain,ytrain)\n",
    "  score = knn.score(xtest,ytest)\n",
    "  t_.append(t)\n",
    "  score_.append(score)\n",
    "\n",
    "plt.plot(t_,score_)\n",
    "\n"
   ]
  },
  {
   "cell_type": "code",
   "execution_count": null,
   "metadata": {
    "colab": {
     "base_uri": "https://localhost:8080/",
     "height": 285
    },
    "id": "6GUZNJ5rmSc5",
    "outputId": "0ad0a745-b917-43b3-b011-fbbb16039c6c"
   },
   "outputs": [
    {
     "data": {
      "text/plain": [
       "[<matplotlib.lines.Line2D at 0x7f01f634acc0>]"
      ]
     },
     "execution_count": 63,
     "metadata": {
      "tags": []
     },
     "output_type": "execute_result"
    },
    {
     "data": {
      "image/png": "[encoded data removed]",
      "text/plain": [
       "<Figure size 432x288 with 1 Axes>"
      ]
     },
     "metadata": {
      "needs_background": "light",
      "tags": []
     },
     "output_type": "display_data"
    }
   ],
   "source": [
    "#Faites varier les types de distances (p). Quelle est la meilleure distance ? \n",
    "\n",
    "from sklearn.neighbors import KNeighborsClassifier as KNNs\n",
    "\n",
    "p_=[]\n",
    "score_=[]\n",
    "\n",
    "rand = np.random.randint(70000, size=5000)\n",
    "datat = mnist.data[rand]\n",
    "labelt = mnist.target[rand]\n",
    "xtrain, xtest, ytrain, ytest = train_test_split(datat, labelt, train_size=0.8)\n",
    "\n",
    "for p in range(1,4):\n",
    "  \n",
    "  knn = KNNs(n_neighbors=10,p=p)\n",
    "  knn.fit(xtrain,ytrain)\n",
    "  score = knn.score(xtest,ytest)\n",
    "  p_.append(p)\n",
    "  score_.append(score)\n",
    "\n",
    "plt.plot(p_,score_)\n",
    "\n"
   ]
  },
  {
   "cell_type": "code",
   "execution_count": null,
   "metadata": {
    "colab": {
     "base_uri": "https://localhost:8080/"
    },
    "id": "Bgo7kb6T7FPg",
    "outputId": "268dcefc-814a-40c2-f559-03ff6a4761a8"
   },
   "outputs": [
    {
     "name": "stdout",
     "output_type": "stream",
     "text": [
      "n_job 1\n",
      "time training 12.635108947753906 s\n",
      "time testing 635.7610442638397 s\n",
      "score 0.9642\n",
      "\n",
      "\n",
      "n_job -1\n",
      "time training 11.788974523544312 s\n",
      "time testing 413.5073835849762 s\n",
      "score 0.9642\n"
     ]
    }
   ],
   "source": [
    "#Fixez n_job à 1 puis à -1 et calculez le temps de chacun. \n",
    "from sklearn.neighbors import KNeighborsClassifier as KNNs\n",
    "from time import time\n",
    "import numpy as np\n",
    "from sklearn.model_selection import train_test_split\n",
    "\n",
    "rand = np.random.randint(70000, size=50000)\n",
    "datat = mnist.data[rand]\n",
    "labelt = mnist.target[rand]\n",
    "xtrain, xtest, ytrain, ytest = train_test_split(datat, labelt, train_size=0.8)\n",
    "\n",
    "start = time()\n",
    "knn = KNNs(n_neighbors=10,p=2,n_jobs=1)\n",
    "knn.fit(xtrain,ytrain)\n",
    "end=time()\n",
    "startp = time()\n",
    "score = knn.score(xtest,ytest)\n",
    "endp=time()\n",
    "print(\"n_job 1\")\n",
    "print(\"time training\",end-start,\"s\")\n",
    "print(\"time testing\",endp-startp,\"s\")\n",
    "print(\"score\",score)\n",
    "\n",
    "print(\"\\n\")\n",
    "\n",
    "start=time()\n",
    "knn = KNNs(n_neighbors=10,p=2,n_jobs=-1)\n",
    "knn.fit(xtrain,ytrain)\n",
    "end=time()\n",
    "startp = time()\n",
    "score = knn.score(xtest,ytest)\n",
    "endp=time()\n",
    "print(\"n_job -1\")\n",
    "print(\"time training\",end-start,\"s\")\n",
    "print(\"time testing\",endp-startp,\"s\")\n",
    "print(\"score\",score)"
   ]
  }
 ],
 "metadata": {
  "colab": {
   "name": "TP1-2_prog1.ipynb",
   "provenance": []
  },
  "kernelspec": {
   "display_name": "Python 3",
   "language": "python",
   "name": "python3"
  },
  "language_info": {
   "codemirror_mode": {
    "name": "ipython",
    "version": 3
   },
   "file_extension": ".py",
   "mimetype": "text/x-python",
   "name": "python",
   "nbconvert_exporter": "python",
   "pygments_lexer": "ipython3",
   "version": "3.7.3"
  }
 },
 "nbformat": 4,
 "nbformat_minor": 1
}
